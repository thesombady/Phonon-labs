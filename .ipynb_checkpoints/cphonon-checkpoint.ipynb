{
 "cells": [
  {
   "cell_type": "markdown",
   "metadata": {},
   "source": [
    "# cphonon function\n",
    "### Authors\n",
    "Written by Andris Potrebko, that smiling guy from Latvia in *2019*. Thanks for the theoretical support by Andreas Wacker\\\n",
    "Much inspired by a matlab code which was written by Anders Blom in *1999* and then improved by Björn Samuelsson, *2000*"
   ]
  },
  {
   "cell_type": "markdown",
   "metadata": {},
   "source": [
    "* The first part is the *actual calculation part*, second one is the *user interface* part. In the first part the eigenfrequencies *omega*, k vectors (multiplied with the lattice seperation *a*) *Ka* and eigenvectors *V* are calculated and plotted. It is defined though functions, each of which are doing a specific part and afterwards all of them are continiouslly being executed in the GUI part.\n",
    "\n",
    "* If you want only to check what is here, go step by step, read the written explanations and execute cell by cell *ctrl+enter*. Feel free to uncomment the cells containing only outputs e.g cell containing only *#A* and check how the output looks like."
   ]
  },
  {
   "cell_type": "markdown",
   "metadata": {},
   "source": [
    "### So, we begin with importing some important libraries"
   ]
  },
  {
   "cell_type": "code",
   "execution_count": 1,
   "metadata": {},
   "outputs": [],
   "source": [
    "%matplotlib inline \n",
    "%matplotlib notebook \n",
    "# ^^ Will display figures in the same cell as the code is ^^\n",
    "from matplotlib import pyplot as plt\n",
    "\n",
    "from scipy.sparse import diags\n",
    "import numpy as np\n",
    "from scipy.linalg import eig\n",
    "import ipywidgets as widgets\n",
    "from ipywidgets import interact, interactive\n",
    "from IPython.display import display    #Java - not there anymore for running cells from widgits\n",
    "from math import log\n",
    "\n",
    "# pretty print all cell's output and not just the last one\n",
    "from IPython.core.interactiveshell import InteractiveShell\n",
    "InteractiveShell.ast_node_interactivity = \"all\"\n",
    "\n",
    "from IPython.utils.capture import capture_output #To suppress the output at some points"
   ]
  },
  {
   "cell_type": "markdown",
   "metadata": {},
   "source": [
    "### Define some initial values\n",
    "\n",
    "* bc - boundary conditions if bc=0 - peridoc b.c; if bc=1 - fixed ends; if bc=2 - free ends.\n",
    "* N - number of atoms; M1/ M2 - masses of the first/second atom in the diatomic chane. When M1=M2, then program considers monoatomic chane.\n",
    "* gamma - force constant\n",
    "* imp_enabled - if 1 then enabled, if 0, then not enabled\n",
    "* Nimp, Mimp - atom number at which the impurity is at, mass of the impurity\\\n",
    "You shouldn't begin with N=2 and bc=1. Otherwise at some points it will give errors because *ka* is going to be a null vector, which I haven't dealt with."
   ]
  },
  {
   "cell_type": "code",
   "execution_count": 2,
   "metadata": {},
   "outputs": [],
   "source": [
    "N = 10\n",
    "M1 = 30\n",
    "M2 = 30\n",
    "gamma = 35\n",
    "imp_enabled = 0\n",
    "Nimp = 5\n",
    "Mimp = 25\n",
    "bc = 0"
   ]
  },
  {
   "cell_type": "markdown",
   "metadata": {},
   "source": [
    "Create force matrix, with 2 on the diagonal and -1 on each side\n"
   ]
  },
  {
   "cell_type": "code",
   "execution_count": 3,
   "metadata": {},
   "outputs": [],
   "source": [
    "def CreateForceMatrix(N):\n",
    "    tmp1 = [-1]*(N-1)\n",
    "    tmp2 = [2]*N\n",
    "    diagonals = [tmp1, tmp2, tmp1]  # the diagonals of the force matrix\n",
    "    A = diags(diagonals, [-1, 0, 1]).todense()\n",
    "    return(A)\n",
    "A = CreateForceMatrix(N)"
   ]
  },
  {
   "cell_type": "code",
   "execution_count": 4,
   "metadata": {},
   "outputs": [
    {
     "data": {
      "text/plain": [
       "matrix([[ 2., -1.,  0.,  0.,  0.,  0.,  0.,  0.,  0.,  0.],\n",
       "        [-1.,  2., -1.,  0.,  0.,  0.,  0.,  0.,  0.,  0.],\n",
       "        [ 0., -1.,  2., -1.,  0.,  0.,  0.,  0.,  0.,  0.],\n",
       "        [ 0.,  0., -1.,  2., -1.,  0.,  0.,  0.,  0.,  0.],\n",
       "        [ 0.,  0.,  0., -1.,  2., -1.,  0.,  0.,  0.,  0.],\n",
       "        [ 0.,  0.,  0.,  0., -1.,  2., -1.,  0.,  0.,  0.],\n",
       "        [ 0.,  0.,  0.,  0.,  0., -1.,  2., -1.,  0.,  0.],\n",
       "        [ 0.,  0.,  0.,  0.,  0.,  0., -1.,  2., -1.,  0.],\n",
       "        [ 0.,  0.,  0.,  0.,  0.,  0.,  0., -1.,  2., -1.],\n",
       "        [ 0.,  0.,  0.,  0.,  0.,  0.,  0.,  0., -1.,  2.]])"
      ]
     },
     "execution_count": 4,
     "metadata": {},
     "output_type": "execute_result"
    }
   ],
   "source": [
    "#A"
   ]
  },
  {
   "cell_type": "markdown",
   "metadata": {},
   "source": [
    "Update the force matrix considering all boundary conditions"
   ]
  },
  {
   "cell_type": "code",
   "execution_count": 5,
   "metadata": {},
   "outputs": [],
   "source": [
    "def ForceMatrixBoundaryCond(A, bc, N):\n",
    "    if bc == 2:  # free ends\n",
    "        A[0, 0] = 1\n",
    "        A[N-1, N-1] = 1\n",
    "    elif bc == 1:  # fixed ends\n",
    "        A[0, 0] = - 2  # this will generate negative eigenvalues, to be removed below\n",
    "        A[N-1, N-1] = - 2\n",
    "        A[1, 0] = 0\n",
    "        A[0, 1] = 0\n",
    "        A[N - 2, N-1] = 0\n",
    "        A[N-1, N - 2] = 0\n",
    "    else:  # periodic boundary cond.\n",
    "        A[0, N-1] += - 1  # The corner elements are -1 allways, except when N=2. then the atom\n",
    "        A[N-1, 0] += - 1  # is connected to the other one in two ways. Thus the matrix element is =-2\n",
    "    return(A)\n",
    "A = ForceMatrixBoundaryCond(A, bc, N)"
   ]
  },
  {
   "cell_type": "code",
   "execution_count": 6,
   "metadata": {},
   "outputs": [],
   "source": [
    "#A"
   ]
  },
  {
   "cell_type": "markdown",
   "metadata": {},
   "source": [
    "Create mass matrix, take care of impurities"
   ]
  },
  {
   "cell_type": "code",
   "execution_count": 7,
   "metadata": {},
   "outputs": [],
   "source": [
    "def CreateMassMatrix(N, M1, M2, Nimp, Mimp, imp_enabled):\n",
    "    Nimp = Nimp-1  # Python counts from 0\n",
    "    B = np.zeros(shape=(N, N))  # diags([1]*N,0).todense()\n",
    "    for i in range(N):\n",
    "        if i % 2 == 0:  # if even\n",
    "            B[i, i] = 1 / M1\n",
    "        else:\n",
    "            B[i, i] = 1 / M2\n",
    "\n",
    "    if imp_enabled:\n",
    "        B[Nimp, Nimp] = 1 / Mimp\n",
    "    return(B)\n",
    "B = CreateMassMatrix(N, M1, M2, Nimp, Mimp, imp_enabled)"
   ]
  },
  {
   "cell_type": "code",
   "execution_count": 8,
   "metadata": {},
   "outputs": [],
   "source": [
    "# B"
   ]
  },
  {
   "cell_type": "code",
   "execution_count": null,
   "metadata": {},
   "outputs": [],
   "source": []
  },
  {
   "cell_type": "markdown",
   "metadata": {},
   "source": [
    "### Solve the eigenvalue equation\n",
    "We get *omega* - eigenfrequencies and V - the vector of all displacements *u*\n",
    "\n",
    "Set number of modes *Nmodes* for fixed b.c. this number will be reduced by 2 as we remove negative eigenvalues (Two of the atoms don't move)"
   ]
  },
  {
   "cell_type": "code",
   "execution_count": 9,
   "metadata": {},
   "outputs": [],
   "source": [
    "def EigenEq(A, B, gamma, bc, N):\n",
    "    A1 = np.dot(gamma*B, A)\n",
    "    D, V = eig(A1)\n",
    "    D = np.real(D)\n",
    "    Nmodes = N\n",
    "    # Find negative eigenvalues and remove corresponding eigenvectors/-values for fixed b.c\n",
    "    if bc == 1:\n",
    "        for k in range(2):\n",
    "            neg = -1\n",
    "            for i in range(Nmodes):\n",
    "                if ((D[i] < -1e-06) & (neg == -1)):\n",
    "                    neg = i\n",
    "            D = np.concatenate([D[:(neg)], D[(neg+1):]])\n",
    "            V = np.concatenate([V[:, :(neg)], V[:, (neg+1):]], axis=1)\n",
    "            Nmodes = Nmodes - 1\n",
    "\n",
    "    omega = np.sqrt(np.abs(D)) # Abs because D can be slightly negative ex. -6.10622664e-16\n",
    "    \n",
    "    # sort the eigenvalues and eigenmodes according to the eigenvalues\n",
    "    ind = np.argsort(omega)\n",
    "    omega = np.sort(omega)\n",
    "    V = V[:, ind]\n",
    "\n",
    "    return(omega, V)\n",
    "omega, V = EigenEq(A, B, gamma, bc, N)"
   ]
  },
  {
   "cell_type": "code",
   "execution_count": 10,
   "metadata": {},
   "outputs": [],
   "source": [
    "#omega\n",
    "#V"
   ]
  },
  {
   "cell_type": "code",
   "execution_count": null,
   "metadata": {},
   "outputs": [],
   "source": []
  },
  {
   "cell_type": "markdown",
   "metadata": {},
   "source": [
    "### Discrete fourier transform\n",
    "We use Fast fourier transform algorithm (*fft* function) to implement the discrete fourier transform.\n",
    "* For the case of *fixed ends* boundary conditions the smallest wave possible can be a wave with the wavelength _2*(N-1)_ - our full system is half the wave length, the wave can be antisymetric with the wave outside. This is why when search the Fourier coefficients we extend the wave with its mirror image outside of our region, but at the end we cut the K interval because for *K>N+1* K is displaying the second Brilloin zone.\n",
    "* For the case of *free ends* - the real periodicity is _2*N_. The cell goes from 0.5a to N+0.5a. At the end points the force is 0 => the deivative of the wave is zero.\n",
    "* For periodic boundary conditions, the periodicity is *N* but seaching for k vectors  we cut, only up to *floor(N/2)*. Don't really get why it happens. But each frequency except zero is doubly degenerate with +K and -K solutions (moving in opposite directions), so when we look for K vectors, they will be in our normalised units 0, -1, 1, -2, 2, 3... What we will get from the fourier analysis, will only be the absolute values of these. So the K values will go from 0 to floor(N/2) and afterwards the peaks in the fourier spectrum will start to repeat, showing the next Brilloin zone. For other boundary conditions each K will be different in absolute values, the maximal value will correspond to Nmodes\n",
    "* Karg is the phase of the obtained K. I basically use it only for the periodic case when distributing the K values"
   ]
  },
  {
   "cell_type": "code",
   "execution_count": 11,
   "metadata": {},
   "outputs": [],
   "source": [
    "def FourierTransform(bc, V, N,omega):\n",
    "    if bc == 2:  # free ended\n",
    "        #wavemax = Nmodes\n",
    "        Vplus=list(reversed(V[:,:])) #Add the mirror image - the other part of the system\n",
    "        VFull=np.vstack((V,Vplus))\n",
    "        Kk = np.fft.fft(VFull, 2*N, axis=0)\n",
    "        Kk = Kk[:(N + 1), :N]    #Cut the first Brilluin zone\n",
    "        #Ksq=np.imag(Kk)*np.imag(Kk)\n",
    "        #Kargs = np.angle(Kk)\n",
    "    elif bc == 1:  # for fixed ends imaginary part turns out to work better. Still don't get why\n",
    "        #wavemax = Nmodes\n",
    "        Vplus=list(reversed(V[:-1,:]*-1)) #Add the mirror image with the misus sign - the other part of the system\n",
    "        VFull=np.vstack((V,Vplus))\n",
    "        Kk = np.fft.fft(VFull, 2*(N - 1), axis=0)\n",
    "        Kk = Kk[:(N ), :(N-2)]\n",
    "        #Kargs=np.angle(Kk)\n",
    "    else:  # periodic\n",
    "        omega1=np.append(omega[1:],0)   #To search the two consecutive frequencies are the same\n",
    "        oddDeg=np.abs(omega1-omega)<1e-06\n",
    "        evenDeg=np.append(False,oddDeg[:-1])\n",
    "        V=V.astype(complex)    #Make V matrix a complex matrix\n",
    "        Vnew=np.zeros(shape=(N, N)).astype(complex)\n",
    "        Vnew[:,oddDeg]=np.sqrt(1/2)*(V[:,oddDeg]+V[:,evenDeg]*1j) \n",
    "        V[:,evenDeg]=np.sqrt(1/2)*(V[:,oddDeg]-V[:,evenDeg]*1j)\n",
    "        V[:,oddDeg]=Vnew[:,oddDeg]\n",
    "        Kk = np.fft.fft(V, N, axis=0)\n",
    "        if imp_enabled==1:  #\n",
    "            Kk=Kk[:N//2+1,:]\n",
    "        \n",
    "#         wavemax = np.floor(N / 2)\n",
    "#         Kk = np.fft.fft(V, N, axis=0)\n",
    "#         Kk = Kk[:int(wavemax) + 1, :N]\n",
    "#         Ksq = np.real(Kk*np.conj(Kk))  # can be a bit negative\n",
    "#         Kargs = np.angle(Kk)\n",
    "\n",
    "    #Previously was taken Ksq = np.imag(Kk)*np.imag(Kk) \n",
    "    #If we don't extend then the eigenmode is only positive and fourier transform fives K=0, which is not physical.\n",
    "    #The previous matlab code solved this by taking the imag parts. I feels it more reasonable just to fix this manually\n",
    "    #Check the commented out code bellow\n",
    "    Ksq = np.real(Kk*np.conj(Kk))\n",
    "    Ka = np.argmax(Ksq, axis=0)\n",
    "    Karg=[0]*len(Ka)\n",
    "    if bc==0: #Those K values which are above the first Brilluin zone put on the left branch\n",
    "        index=Ka>np.floor(N/2)\n",
    "        Ka[index]=Ka[index]-N\n",
    "        \n",
    "    #for (k, i) in zip(Ka, range(len(Ka))):\n",
    "    #    Karg[i]=Kargs[k,i]\n",
    "    # mx=np.max(Ksq,axis=0)#this one we don't need\n",
    "    return(Ka, V)  # maybe Kk,\n",
    "Ka, V = FourierTransform(bc, V, N,omega)"
   ]
  },
  {
   "cell_type": "code",
   "execution_count": 12,
   "metadata": {},
   "outputs": [],
   "source": [
    "# Vplus=list(reversed(V[:-1,:]*-1)) #Add the mirror image with the misus sign - the other part of the system\n",
    "# VFull=np.vstack((V,Vplus))\n",
    "# Kk = np.fft.fft(VFull, 2*(N - 1), axis=0)\n",
    "# Kk = Kk[:(N + 1), :(N-2)]\n",
    "# Ksq = np.real(Kk*np.conj(Kk))"
   ]
  },
  {
   "cell_type": "code",
   "execution_count": 13,
   "metadata": {},
   "outputs": [],
   "source": [
    "# plt.plot(Ksq[])"
   ]
  },
  {
   "cell_type": "code",
   "execution_count": 14,
   "metadata": {},
   "outputs": [],
   "source": [
    "# Ksq1=np.imag(Kk)*np.imag(Kk)\n",
    "# Ksq2=np.real(Kk*np.conj(Kk))\n",
    "\n",
    "# plt.plot(Ksq1[:,0])\n",
    "# plt.plot(Ksq2[:,0])\n",
    "\n",
    "# #plt.plot(np.imag(Ksq1[:,1]))\n",
    "#plt.plot(np.imag(Ksq2[:,1]))\n",
    "#plt.plot(np.real(Ksq1[:,1]))\n",
    "#plt.plot(np.real(Ksq2[:,1]))"
   ]
  },
  {
   "cell_type": "code",
   "execution_count": 15,
   "metadata": {},
   "outputs": [],
   "source": [
    "Ka\n",
    "omega"
   ]
  },
  {
   "cell_type": "code",
   "execution_count": 16,
   "metadata": {},
   "outputs": [],
   "source": [
    "# if bc == 1:\n",
    "#     Ka = Ka*np.pi / (N - 1)\n",
    "# elif bc==0:\n",
    "#     Ka = Ka*2*np.pi / N #*2 Remembering the cut we did at the Fourier transform\n",
    "# elif bc==2:\n",
    "#     Ka = Ka*np.pi / N"
   ]
  },
  {
   "cell_type": "code",
   "execution_count": 17,
   "metadata": {},
   "outputs": [],
   "source": [
    "Ka"
   ]
  },
  {
   "cell_type": "code",
   "execution_count": 18,
   "metadata": {},
   "outputs": [],
   "source": [
    "def CorrectOmega(Ka, omega, bc, M1, M2, N):\n",
    "        # set correct magnitude of Ka\n",
    "    if bc == 1:\n",
    "        Ka = Ka*np.pi / (N - 1)\n",
    "    elif bc==0:\n",
    "        Ka = Ka*2*np.pi / N #*2 Remembering the cut we did at the Fourier transform\n",
    "    elif bc==2:\n",
    "        Ka = Ka*np.pi / N\n",
    "    \n",
    "    #Give the correct magnitude for the omega in THz. Now the omega is the real frequency, not the angular.\n",
    "    #We keep the name omega.\n",
    "    omega=omega*3.9057\n",
    "    \n",
    "    # The high Ka values () belong to\n",
    "    if (M1 != M2):\n",
    "        indx=np.abs(Ka) >= np.pi/2\n",
    "        Ka[indx] = np.sign(Ka[indx])*(np.abs(Ka[indx]) - np.pi)\n",
    "\n",
    "    # correct sign if the last Ka is on the right boundary to the left side (we define our interval of Ka: [-pi/a, pi/a) )\n",
    "    if np.abs(Ka[-1] - np.pi) < 1e-06:\n",
    "        Ka[-1] = - Ka[-1]\n",
    "    return(omega, Ka)\n",
    "\n",
    "omega, Ka = CorrectOmega(Ka, omega, bc, M1, M2, N)"
   ]
  },
  {
   "cell_type": "code",
   "execution_count": null,
   "metadata": {},
   "outputs": [],
   "source": []
  },
  {
   "cell_type": "markdown",
   "metadata": {},
   "source": [
    "### Bunch of boring but important manipulations with the results.\n",
    "* For periodic boundary conditions we have doubly degenerate levels. For the degenerate levels: give the eigenmode with the smallest phase angle a plus sign and the other a minus sign. Afterwards we make the eigenmodes orthoganal. This will make them move into opposite directions (I guess)\n",
    "* *Ka* values from the fft are only positive, the absolute values. For periodic b.c. we distribute them along the positive and negative branch. We do it also for other two boundary conditions even though there each wave is actually a combination of both *Ka* and *-Ka* (wave moving in the opposite directions), thus a standing wave\n",
    "* Give the corect amplitude for *Ka*. So far they have been in values 1,2,..., but we want to them to be up to $Ka=k \\cdot a=\\frac{\\pi}{2}$, where $a$ is the atomic distance\n"
   ]
  },
  {
   "cell_type": "code",
   "execution_count": 19,
   "metadata": {},
   "outputs": [],
   "source": [
    "# # set Ka to the index of the biggest squared coefficient\n",
    "# def CorrectOmega(Ka, Karg, V, omega, bc, M1, M2, N):\n",
    "#     if len(Ka)==0:  # because in the case when bc=1 and N=2 gives an error\n",
    "#         maxi = 0\n",
    "#     else:\n",
    "#         maxi = np.argmax(Ka)\n",
    "\n",
    "#     if bc == 0:\n",
    "#         for j in range(N-1):\n",
    "#             if np.abs(omega[j] - omega[j + 1]) < 1e-06:  # if both omegas \"almost\" equal\n",
    "#                 diff = Karg[j + 1] - Karg[j]\n",
    "#                 if diff < - np.pi:\n",
    "#                     diff = diff + 2*np.pi\n",
    "#                 elif diff > np.pi:\n",
    "#                     diff = diff - 2*np.pi\n",
    "#                 # those where maxi+1 is even Ka will be -Ka, see below in this sec.\n",
    "#                 if (diff > 0 != ( (maxi+j) % 2) ): #This means do only if both diff>0 and maxi+1 is even or both are not.\n",
    "#                 # those where maxi+1 is even Ka will be -Ka, see below in this sec.\n",
    "#                     V[:, j] = - V[:, j]\n",
    "#                 # If the difference was pi/2 then changing the sign of one does not change the orthogonality\n",
    "#                 # Otherwise make them both orthonormal (supposes normated vectors)\n",
    "#                 if np.abs(np.abs(diff) - np.pi / 2) > 1e-06:\n",
    "#                     V[:, j + 1] = V[:, j + 1] - V[:, j] * \\\n",
    "#                         np.dot(V[:, j + 1], V[:, j])\n",
    "#                     V[:, j + 1] = V[:, j + 1] / \\\n",
    "#                         np.sqrt(np.dot(V[:, j + 1], V[:, j + 1]))\n",
    "\n",
    "#     # Change sigh of every second Ka, depending on which is the maximum Ka. For periodic this will distribute dispersion \n",
    "#     #On the right and left branch. For other boundary conditions, it would be enough to plot only one branch,\n",
    "#     #but this is a pretty way of drawing it.\n",
    "#     Ka[(maxi) % 2::2] = -Ka[(maxi) % 2::2]\n",
    "\n",
    "#     # set correct magnitude of Ka\n",
    "#     if bc == 1:\n",
    "#         Ka = Ka*np.pi / (N - 1)\n",
    "#     elif bc==0:\n",
    "#         Ka = Ka*2*np.pi / N #*2 Remembering the cut we did at the Fourier transform\n",
    "#     elif bc==2:\n",
    "#         Ka = Ka*np.pi / N\n",
    "    \n",
    "#     #Give the correct magnitude for the omega in THz. Now the omega is the real frequency, not the angular.\n",
    "#     #We keep the name omega.\n",
    "#     omega=omega*3.9057\n",
    "    \n",
    "#     # The high Ka values () belong to\n",
    "#     if M1 != M2:\n",
    "#         Ka = Ka*2\n",
    "#         for i in range(len(Ka)):\n",
    "#             if np.abs(Ka[i]) > np.pi:\n",
    "#                 Ka[i] = np.sign(Ka[i])*(np.abs(Ka[i]) - 2*np.pi)\n",
    "\n",
    "#     # correct sign if the last Ka is on the right boundary to the left side (we define our interval of Ka: [-pi/a, pi/a) )\n",
    "#     for i in range(len(Ka)):\n",
    "#         if np.abs(Ka[i] - np.pi) < 1e-06:\n",
    "#             Ka[i] = - Ka[i]\n",
    "#     return(V, omega, Ka)\n",
    "# V, omega, Ka = CorrectOmega(Ka, Karg, V, omega, bc, M1, M2, N)"
   ]
  },
  {
   "cell_type": "code",
   "execution_count": 20,
   "metadata": {},
   "outputs": [],
   "source": [
    "# Vdiff = V[:(N-1), :]-V[1:N, :]\n",
    "# if bc == 0:\n",
    "#     Vdiff = np.vstack((Vdiff[:(N-1), :], V[(N-1), :] - V[0, :]))\n",
    "# if bc == 0: #Maybe if bc!=1, to incude free ends\n",
    "#     Vdiff = np.vstack((Vdiff[:(N-1), :], V[(N-1), :] - V[0, :]))\n",
    "# Vdiff = np.diag(np.dot(np.transpose(Vdiff), Vdiff)).copy()\n",
    "# if len(Ka) != 0:  # Otherwise it gives error, because no such element\n",
    "#     if Vdiff[0] < 1e-06:\n",
    "#         Vdiff[0] = 1\n",
    "# Ch = 4*np.sqrt(2*omega / (gamma*Vdiff))  \n",
    "# V = np.dot(V, diags(Ch, 0).todense())"
   ]
  },
  {
   "cell_type": "markdown",
   "metadata": {},
   "source": [
    "### set amplitude proportional to classical amplitude of one.\n",
    "Inspired by the previous matlb code. Feels very arbitrary. Basically we cormalize that the distances between the atoms are around 1, for the sake of a pretty animation."
   ]
  },
  {
   "cell_type": "code",
   "execution_count": 21,
   "metadata": {},
   "outputs": [],
   "source": [
    "def CorrectAmplitude(V, omega, gamma, N):\n",
    "    Vdiff = V[:(N-1), :]-V[1:N, :]\n",
    "    if bc == 0:\n",
    "        Vdiff = np.vstack((Vdiff[:(N-1), :], V[(N-1), :] - V[0, :]))\n",
    "\n",
    "    Vdiff = V[:(N-1), :]-V[1:N, :]\n",
    "    if bc == 0: #Maybe if bc!=1, to incude free ends\n",
    "        Vdiff = np.vstack((Vdiff[:(N-1), :], V[(N-1), :] - V[0, :]))\n",
    "    Vdiff = np.diag(np.dot(np.transpose(Vdiff), Vdiff)).copy()\n",
    "\n",
    "    if len(Ka) != 0:  # Otherwise it gives error, because no such element\n",
    "        if Vdiff[0] < 1e-06:\n",
    "            Vdiff[0] = 1\n",
    "\n",
    "    Ch = 8*np.sqrt(2*omega / (gamma*Vdiff)) #4*np.sqrt(2*omega / (gamma*Vdiff))  \n",
    "    V = np.dot(V, diags(Ch, 0).todense())\n",
    "    return(V)\n",
    "\n",
    "V = CorrectAmplitude(V, omega, gamma, N)"
   ]
  },
  {
   "cell_type": "code",
   "execution_count": null,
   "metadata": {},
   "outputs": [],
   "source": []
  },
  {
   "cell_type": "markdown",
   "metadata": {},
   "source": [
    "### Plots"
   ]
  },
  {
   "cell_type": "markdown",
   "metadata": {},
   "source": [
    "##### The dispersion relation + the analytic solution\n",
    "The guy bellow (function function) plots dispersion plot from both data and the theoretical calculations"
   ]
  },
  {
   "cell_type": "code",
   "execution_count": 22,
   "metadata": {},
   "outputs": [],
   "source": [
    "def PlotDisp(gamma, M1, M2, omega, Ka, ax1,ModeNr):\n",
    "    #global ax1\n",
    "    ax1.cla()\n",
    "    ax1.plot(Ka, omega, 'bo', label='simulation')\n",
    "    \n",
    "    #Ephesise the chosen point to plot the eigenmode\n",
    "    SizeChosenP=16-N/20 #If there are many points on the plot then the marker is too big\n",
    "    try:\n",
    "        ax1.plot(Ka[ModeNr-1],omega[ModeNr-1],'rx',markersize=SizeChosenP)\n",
    "        ax1.plot(Ka[ModeNr-1],omega[ModeNr-1],'ro',fillstyle='none',markersize=SizeChosenP)\n",
    "    except:\n",
    "        pass\n",
    "\n",
    "    if M1 == M2:\n",
    "        ka = np.linspace(-np.pi, np.pi, 100)\n",
    "        analytic = np.sqrt(4*gamma/M1)*np.abs(np.sin(ka/2))*3.9057\n",
    "        ax1.plot(ka, analytic, label='analytic')\n",
    "    else:\n",
    "        ka = np.linspace(-np.pi/2, np.pi/2, 100)\n",
    "        MM = (M1+M2)/(M1*M2)\n",
    "        analytic1 = np.sqrt(\n",
    "            gamma*MM * (1 + np.sqrt(1-2/MM/(M1+M2)*(1-np.cos(ka*2)))))*3.9057 #ka*2 because ka*d=ka*2*a\n",
    "        analytic2 = np.sqrt(\n",
    "            gamma*MM * (1 - np.sqrt(1-2/MM/(M1+M2)*(1-np.cos(ka*2)))))*3.9057\n",
    "        ax1.plot(ka, analytic1, label='analytic acustic')\n",
    "        ax1.plot(ka, analytic2, label='analytic optical')\n",
    "    ax1.legend()\n",
    "    ax1.set(xlabel='k*a',ylabel='frequency,$\\omega/(2\\pi)$  THz', title='dispersion relation/allowed vibrational frequencies')\n",
    "\n",
    "    \n",
    "#fig, ax1 = plt.subplots()\n",
    "#PlotDisp(gamma,M1,M2, omega, Ka,ax1,1)"
   ]
  },
  {
   "cell_type": "markdown",
   "metadata": {},
   "source": [
    "This guy plots dispacements at one specific given eigenmode"
   ]
  },
  {
   "cell_type": "code",
   "execution_count": 23,
   "metadata": {},
   "outputs": [],
   "source": [
    "def PlotEigenmode(V, ModeNr, M1, M2, ax2, imp_enabled, Mimp, Nimp):\n",
    "    #fig, ax = plt.subplots();\n",
    "    V=np.real(V)\n",
    "    Nmodes=len(V[:, 0])\n",
    "    ax2.cla()\n",
    "    if M1 > M2:\n",
    "        mark1 = 11\n",
    "        mark2 = 6\n",
    "    elif M1 == M2:\n",
    "        mark1 = mark2 = 6\n",
    "    else:\n",
    "        mark1 = 6\n",
    "        mark2 = 11\n",
    "    marktype = 'bo' if M1 == M2 else 'go'\n",
    "    oddatoms = range(1, Nmodes+1, 2)\n",
    "    evenatoms = range(2, Nmodes+1, 2)\n",
    "    allatoms = range(1, Nmodes+1)\n",
    "    ax2.set(xlabel='x/a, atomic spacings (a $\\sim$ 3 $\\AA$)',ylabel='displacement, u(t=0) (arb.u)', title='Instantaneous postitions at one eigenmode')\n",
    "    if ModeNr==1:\n",
    "        ax2.set_title('Inst. postitions at one eigenmode',horizontalalignment='left')\n",
    "    ax2.plot(oddatoms, V[::2, ModeNr-1], 'bo', markersize=mark1)\n",
    "    ax2.plot(evenatoms, V[1::2, ModeNr-1], marktype, markersize=mark2)\n",
    "    ax2.plot(allatoms, V[:, ModeNr-1], '-y')\n",
    "    if imp_enabled == 1:\n",
    "        ax2.plot(Nimp, V[Nimp-1, ModeNr-1], 'wo', markersize=11)\n",
    "        ax2.plot(Nimp, V[Nimp-1, ModeNr-1], 'ro', markersize=log(Mimp*2/(M1+M1)+4,5)*8)"
   ]
  },
  {
   "cell_type": "markdown",
   "metadata": {},
   "source": [
    "It was easiest to deal with the difficult case when N=2 and bc are fixed by a separate function where are draw the plot manually"
   ]
  },
  {
   "cell_type": "code",
   "execution_count": 24,
   "metadata": {},
   "outputs": [],
   "source": [
    "def PlotEigenmodeFixedN2(V, M1, M2, ax2, imp_enabled, Mimp, Nimp):\n",
    "    oddatoms = 1\n",
    "    evenatoms = 2\n",
    "    ax2.cla()\n",
    "    if M1 > M2:\n",
    "        mark1 = 11\n",
    "        mark2 = 6\n",
    "    elif M1 == M2:\n",
    "        mark1 = mark2 = 6\n",
    "    else:\n",
    "        mark1 = 6\n",
    "        mark2 = 11\n",
    "    marktype = 'bo' if M1 == M2 else 'go'\n",
    "    allatoms = [1, 2]\n",
    "    ax2.set(xlabel='x/a, atomic spacings (a $\\sim$ 3 $\\AA$)',\n",
    "            ylabel='displacement, u(t=0) (arb.u)', title='Instantaneous postitions at one eigenmode')\n",
    "    ax2.plot(oddatoms, 0, 'bo', markersize=mark1)\n",
    "    ax2.plot(evenatoms, 0, marktype, markersize=mark2)\n",
    "    ax2.plot(allatoms, [0, 0], '-y')\n",
    "    if imp_enabled == 1:\n",
    "        ax2.plot(Nimp, 0, 'wo', markersize=11)\n",
    "        # very arbitrary value of marker sizes that works\n",
    "        ax2.plot(Nimp, 0, 'ro', markersize=log(Mimp*2/(M1+M1)+4, 5)*8)"
   ]
  },
  {
   "cell_type": "markdown",
   "metadata": {},
   "source": [
    "## Here we begin the user interface (UI) part using *IPython widgets* :)"
   ]
  },
  {
   "cell_type": "code",
   "execution_count": 25,
   "metadata": {},
   "outputs": [],
   "source": [
    "from ipywidgets import Label, HBox, Layout, Box, VBox"
   ]
  },
  {
   "cell_type": "markdown",
   "metadata": {},
   "source": [
    "Before the definition of the function we also define plots which will be called later. For some buggy reason, the *matplotlib* has to be imported and \"*%matplotlib notebook*\" has to be called again"
   ]
  },
  {
   "cell_type": "code",
   "execution_count": 26,
   "metadata": {},
   "outputs": [],
   "source": [
    "%%capture\n",
    "from matplotlib import pyplot as plt\n",
    "%matplotlib notebook\n",
    "# calling it a second time may prevent some graphics errors\n",
    "%matplotlib notebook\n",
    "fig, [ax1, ax2] = plt.subplots(nrows=1, ncols=2)\n",
    "fig.set_size_inches(9.5, 3.5)\n",
    "#fig2, ax3 = plt.subplots(nrows=1,ncols=1)\n",
    "# fig2.set_size_inches(10.0, 0.7)\n",
    "PlotDisp(gamma, M1, M2, omega, Ka, ax1, 2)\n",
    "PlotEigenmode(**{'V': V, 'ModeNr': 2, 'M1': M1, 'M2': M2, \"ax2\": ax2,\n",
    "                 'imp_enabled': imp_enabled, 'Mimp': Mimp, 'Nimp': Nimp})\n",
    "\n",
    "fig.subplots_adjust(wspace=0.4, bottom=0.2)"
   ]
  },
  {
   "cell_type": "markdown",
   "metadata": {},
   "source": [
    "Define a function which will calculate $\\omega$ and $k \\cdot a$ (do everything above) every time some of the main input widgets will be changed. Function *interactive* defines most of these widgets."
   ]
  },
  {
   "cell_type": "code",
   "execution_count": 27,
   "metadata": {},
   "outputs": [],
   "source": [
    "#Debug=widgets.HTMLMath(value='Start',placeholder='Some HTML')\n",
    "def update(N=N, gamma=gamma, bc=bc, M1=M1, M2=M2, imp_enabled=imp_enabled, Nimp=Nimp, Mimp=Mimp, ModeNr=2):  # ,Debug=1\n",
    "    A = CreateForceMatrix(N)\n",
    "    A = ForceMatrixBoundaryCond(A, bc, N)\n",
    "    B = CreateMassMatrix(N, M1, M2, Nimp, Mimp, imp_enabled)\n",
    "    omega, V = EigenEq(A, B, gamma, bc, N)\n",
    "\n",
    "    # ax.plot(Ka,omega,'bo',label=['simulation']);\n",
    "    # fig\n",
    "    if (len(omega) == 0):\n",
    "        # Debug.value='5'\n",
    "        omega = float('nan')\n",
    "        V = float('nan')\n",
    "        Ka = float('nan')\n",
    "        PlotDisp(gamma, M1, M2, omega, Ka, ax1, ModeNr)\n",
    "        PlotEigenmodeFixedN2(V, M1, M2, ax2, imp_enabled, Mimp, Nimp)\n",
    "    else:\n",
    "        Ka, V = FourierTransform(bc, V, N,omega)\n",
    "        omega, Ka = CorrectOmega(Ka, omega, bc, M1, M2, N)\n",
    "        #Debug.value='I got printed_4_{}'.format(omega)\n",
    "        V = CorrectAmplitude(V, omega, gamma, N)\n",
    "        PlotDisp(gamma, M1, M2, omega, Ka, ax1, ModeNr)\n",
    "        PlotEigenmode(V, ModeNr, M1, M2, ax2, imp_enabled, Mimp, Nimp)\n",
    "\n",
    "    try:\n",
    "        len(omega)                            # Will work if omega is not 'nan'\n",
    "        return Ka[ModeNr-1], omega[ModeNr-1], V[:, ModeNr-1]\n",
    "    except:\n",
    "        return Ka, omega, V\n",
    "\n",
    "\n",
    "#\n",
    "MyInteraction = interactive(update, N=(2, 100, 1), gamma=(5, 200, 5), bc=[('periodic', 0), ('fixed ends', 1), ('free ends', 2)],\n",
    "                            M1=(1, 100, 1), M2=(1, 100, 1), imp_enabled=[('impurity disabled', 0), ('impurity enabled', 1)],\n",
    "                            Nimp=(1, N, 1), Mimp=(1, 100, 1), ModeNr=(1, N, 1))"
   ]
  },
  {
   "cell_type": "markdown",
   "metadata": {},
   "source": [
    "I agree that the bellow is not the prettiest way of doing it but I am not really a  programmer and just learning about widgets. :D So, first we get acces to all widgets in MyInteraction so that it would be more starightforward accessing them. Also, delete names (*.description*) of each widget because otherwise it will appear when we print it using *HBox* later. The output looks nicer if the name is defined at *HBox*."
   ]
  },
  {
   "cell_type": "code",
   "execution_count": 28,
   "metadata": {},
   "outputs": [],
   "source": [
    "for widg in MyInteraction.children[:-1]:\n",
    "    widg.description = \"\"\n",
    "    widg.continuous_update = False\n",
    "\n",
    "NInter, gammaInter, bcInter, M1Inter, M2Inter, imp_enabledInter, NimpInter, MimpInter, ModeNrInter = [\n",
    "    MyInteraction.children[i] for i in range(9)]\n",
    "\n",
    "# Change sizes of the two boxes otherwise it is too large\n",
    "bcInter.layout = Layout(width='100px')\n",
    "imp_enabledInter.layout = Layout(width='130px')"
   ]
  },
  {
   "cell_type": "markdown",
   "metadata": {},
   "source": [
    "#### Defining additional widgets and functions\n",
    "First we define a bottom that will make the two masses equal when we press it"
   ]
  },
  {
   "cell_type": "code",
   "execution_count": 29,
   "metadata": {},
   "outputs": [],
   "source": [
    "MassEqualBtn = widgets.Button(description='Equalize Masses')\n",
    "\n",
    "def equalize_Masses(btn_object):\n",
    "    M2Inter.value = M1Inter.value\n",
    "\n",
    "MassEqualBtn.on_click(equalize_Masses)\n",
    "MassEqualBtn.layout = Layout(width='120px')"
   ]
  },
  {
   "cell_type": "markdown",
   "metadata": {},
   "source": [
    "Here define a widget that will print out the chosen value of $K_a$ and corresponding $\\omega$"
   ]
  },
  {
   "cell_type": "code",
   "execution_count": 30,
   "metadata": {},
   "outputs": [],
   "source": [
    "OmegaPrint = r\"&emsp; Frequency \\( \\frac{{\\omega}}{{2 \\pi}} \\) is <b>{}</b> (THz)\"\n",
    "Kprint = r\"<br> &emsp;  Wave vector \\( k \\cdot a \\) is <b>{}</b> \"\n",
    "PrintValue = widgets.HTMLMath(\n",
    "    value=OmegaPrint.format(np.round(\n",
    "        omega[ModeNrInter.value], 3))+Kprint.format(np.round(Ka[ModeNrInter.value], 2)),\n",
    "    placeholder='Some HTML',\n",
    ")\n",
    "\n",
    "def updateHTML(*args):\n",
    "    try:\n",
    "        PrintValue.value = OmegaPrint.format(np.round(\n",
    "            MyInteraction.result[1], 3))+Kprint.format(np.round(MyInteraction.result[0], 2))\n",
    "    except:\n",
    "        PrintValue.value = OmegaPrint.format(\n",
    "            'No Value')+Kprint.format('No Value')\n",
    "\n",
    "for widg in MyInteraction.children:\n",
    "    widg.observe(updateHTML, 'value')"
   ]
  },
  {
   "cell_type": "markdown",
   "metadata": {},
   "source": [
    "Take care that when we have fixed ends, the mode number is N-2\\\n",
    "Afterwards, when we have different masses and periodic boundary conditions, N must be even"
   ]
  },
  {
   "cell_type": "code",
   "execution_count": 31,
   "metadata": {},
   "outputs": [],
   "source": [
    "def updateMaxValues(*args):\n",
    "    if bcInter.value == 1:\n",
    "        if NInter.value == 2:  # otherwise gives error that max value is less then min value\n",
    "            ModeNrInter.min = ModeNrInter.max = 0\n",
    "        else:\n",
    "            ModeNrInter.max = NInter.value-2\n",
    "            ModeNrInter.min = 1\n",
    "    else:\n",
    "        ModeNrInter.max = NInter.value\n",
    "        ModeNrInter.min = 1\n",
    "    NimpInter.max = NInter.value\n",
    "\n",
    "NInter.observe(updateMaxValues, 'value')\n",
    "bcInter.observe(updateMaxValues, 'value')\n",
    "\n",
    "def updateNstep(*args):\n",
    "    if (M1Inter.value != M2Inter.value) & (bcInter.value == 0):\n",
    "        NInter.step = 2\n",
    "        NInter.value = NInter.value+1 if NInter.value % 2 else NInter.value\n",
    "    else:\n",
    "        NInter.step = 1\n",
    "\n",
    "M1Inter.observe(updateNstep, 'value')\n",
    "M2Inter.observe(updateNstep, 'value')\n",
    "bcInter.observe(updateNstep, 'value')"
   ]
  },
  {
   "cell_type": "markdown",
   "metadata": {
    "scrolled": true
   },
   "source": [
    "Animation"
   ]
  },
  {
   "cell_type": "code",
   "execution_count": 32,
   "metadata": {},
   "outputs": [],
   "source": [
    "# %%capture\n",
    "from matplotlib import animation, rc\n",
    "from IPython.display import HTML"
   ]
  },
  {
   "cell_type": "markdown",
   "metadata": {},
   "source": [
    "Button which would create an animation if pressed"
   ]
  },
  {
   "cell_type": "code",
   "execution_count": 33,
   "metadata": {},
   "outputs": [],
   "source": [
    "# %matplotlib notebook\n",
    "# %matplotlib notebook\n",
    "CreateAnim = widgets.Button(description=r'Create animation')\n",
    "\n",
    "outp = widgets.Output(layout={'border': '1px solid black'})\n",
    "\n",
    "def AnimateOnClick(*args):\n",
    "    %run -p Animation.ipynb\n",
    "    outp.clear_output()\n",
    "    with outp:\n",
    "        display(anim)\n",
    "\n",
    "CreateAnim.on_click(AnimateOnClick)\n",
    "CreateAnim.layout = Layout(width='350px', height='50px')"
   ]
  },
  {
   "cell_type": "markdown",
   "metadata": {},
   "source": [
    "It is difficult with saving animation if everything is in the matplotlib notebook environment. Basically I save the cariable to disk, then I execute animation function which saves the animation, but does not interact with the current notebook environment and then remove the saved variables.\n",
    "If the saving environment mixes together with the matplotlib notebook environment, then one of them stops working"
   ]
  },
  {
   "cell_type": "code",
   "execution_count": 34,
   "metadata": {},
   "outputs": [],
   "source": [
    "SaveAnimToFile = widgets.Button(\n",
    "    description=\"Save animation to mp4 with the current parameters\")\n",
    "\n",
    "VariablesForSaveAnim = [0]*10\n",
    "\n",
    "def SaveAnimation(*args):\n",
    "    with capture_output() as captured:\n",
    "        global VariablesForSaveAnim\n",
    "        VariablesForSaveAnim = [NInter.value, gammaInter.value, bcInter.value, M1Inter.value, M2Inter.value,\n",
    "                                imp_enabledInter.value, NimpInter.value, MimpInter.value, ModeNrInter.value, MyInteraction.result]\n",
    "        %store VariablesForSaveAnim\n",
    "        !jupyter nbconvert --to notebook --execute AnimationSave.ipynb\n",
    "        %store -z VariablesForSaveAnim\n",
    "\n",
    "SaveAnimToFile.on_click(SaveAnimation)\n",
    "SaveAnimToFile.layout = Layout(width='350px', height='50px')"
   ]
  },
  {
   "cell_type": "markdown",
   "metadata": {
    "scrolled": true
   },
   "source": [
    "Define all of the outputs"
   ]
  },
  {
   "cell_type": "code",
   "execution_count": 35,
   "metadata": {},
   "outputs": [],
   "source": [
    "FirstBoxLayout = Layout(display='flex', flex_flow='row', align_items='stretch', width='100%')"
   ]
  },
  {
   "cell_type": "code",
   "execution_count": 36,
   "metadata": {},
   "outputs": [],
   "source": [
    "# MassEqualBtn=Layout\n",
    "FirstBox = widgets.HBox([Label(r'N of atoms'), NInter, Label(\n",
    "    r'force constant $\\gamma$ ($\\frac{N}{m}$)'), gammaInter])\n",
    "Masses = widgets.Box([Label(r'Mass 1 $M_1$ ($u$)'), M1Inter, Label(\n",
    "    r'Mass 2 $M_2$ ($u$)'), M2Inter, MassEqualBtn])\n",
    "\n",
    "ImpurityBox = widgets.HBox([imp_enabledInter, Label(\n",
    "    r'Mass of imp. (u)'), MimpInter, Label(r'Atom nr. of imp.'), NimpInter])\n",
    "Impurity = widgets.Accordion(children=[Masses, ImpurityBox])\n",
    "Impurity.set_title(0, 'Masses')\n",
    "Impurity.set_title(1, 'Impurity')\n",
    "\n",
    "ModeNrInterBox = widgets.Box([Label('Mode number'), ModeNrInter, Label(\n",
    "    'boundary conditions'), bcInter, PrintValue], layout=FirstBoxLayout)\n",
    "AnimationBox = widgets.HBox([CreateAnim, SaveAnimToFile])\n",
    "\n",
    "OutWidg = VBox([FirstBox, Impurity, ModeNrInterBox, AnimationBox])"
   ]
  },
  {
   "cell_type": "code",
   "execution_count": 39,
   "metadata": {},
   "outputs": [],
   "source": [
    "# fig\n",
    "# display(OutWidg)\n",
    "# outp"
   ]
  },
  {
   "cell_type": "code",
   "execution_count": null,
   "metadata": {},
   "outputs": [],
   "source": []
  },
  {
   "cell_type": "code",
   "execution_count": null,
   "metadata": {},
   "outputs": [],
   "source": []
  }
 ],
 "metadata": {
  "kernelspec": {
   "display_name": "Python 3",
   "language": "python",
   "name": "python3"
  },
  "language_info": {
   "codemirror_mode": {
    "name": "ipython",
    "version": 3
   },
   "file_extension": ".py",
   "mimetype": "text/x-python",
   "name": "python",
   "nbconvert_exporter": "python",
   "pygments_lexer": "ipython3",
   "version": "3.8.5"
  },
  "varInspector": {
   "cols": {
    "lenName": 16,
    "lenType": 16,
    "lenVar": 40
   },
   "kernels_config": {
    "python": {
     "delete_cmd_postfix": "",
     "delete_cmd_prefix": "del ",
     "library": "var_list.py",
     "varRefreshCmd": "print(var_dic_list())"
    },
    "r": {
     "delete_cmd_postfix": ") ",
     "delete_cmd_prefix": "rm(",
     "library": "var_list.r",
     "varRefreshCmd": "cat(var_dic_list()) "
    }
   },
   "position": {
    "height": "253px",
    "left": "996px",
    "right": "20px",
    "top": "120px",
    "width": "350px"
   },
   "types_to_exclude": [
    "module",
    "function",
    "builtin_function_or_method",
    "instance",
    "_Feature"
   ],
   "window_display": false
  }
 },
 "nbformat": 4,
 "nbformat_minor": 2
}
