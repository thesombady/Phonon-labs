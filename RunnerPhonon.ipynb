{
 "cells": [
  {
   "cell_type": "markdown",
   "metadata": {},
   "source": [
    "### Run the cell below by pressing twice *ctrl + enter* and enjoy the game:\n",
    "remember to read *Readme.md* and to install *ipywidgets*\n",
    "* *u - atomic units*"
   ]
  },
  {
   "cell_type": "code",
   "execution_count": 1,
   "metadata": {
    "scrolled": false
   },
   "outputs": [
    {
     "data": {
      "application/vnd.jupyter.widget-view+json": {
       "model_id": "65afab1f59c64b3ea8ab1b023feb1092",
       "version_major": 2,
       "version_minor": 0
      },
      "text/plain": [
       "VBox(children=(HBox(children=(Label(value='N of atoms'), IntSlider(value=10, continuous_update=False, min=2), …"
      ]
     },
     "metadata": {},
     "output_type": "display_data"
    },
    {
     "data": {
      "application/vnd.jupyter.widget-view+json": {
       "model_id": "f3e87048bd9748fb8875cead243902ba",
       "version_major": 2,
       "version_minor": 0
      },
      "text/plain": [
       "Output(layout=Layout(border='1px solid black'))"
      ]
     },
     "metadata": {},
     "output_type": "display_data"
    }
   ],
   "source": [
    "%run cphonon.ipynb\n",
    "fig\n",
    "display(OutWidg)\n",
    "outp"
   ]
  },
  {
   "cell_type": "markdown",
   "metadata": {},
   "source": [
    "You can add __your own text here__, and also above, if you want to teach something and some your own explanations e.g:\n",
    "* Notice how for fixed boundary conditions if the impurity is in the first atom, the impurity does not change neither the dispersion, nor any of the eigenmodes\n",
    "* Notice when we have open ends two different masses, there are two modes inbetween the two dispersions curves. These are no calculation errors, what do you think it is? Check the animation\n",
    "* Please be patient with the animation. Stop animation before changing widgets again. Also, do not let the animation play for too long, I think it is a problem. If everything stops, rerun the kernel (Kerner/Restart) and refresh the page.\n",
    "* Saving video takes around twice more time than displaying it.\n",
    "To edit, double click on this, add your text in MarkDown language and press \"Ctrl+Enter\" or \"Shift+Enter\". Notice differences between the both shortcuts."
   ]
  },
  {
   "cell_type": "code",
   "execution_count": 13,
   "metadata": {},
   "outputs": [
    {
     "data": {
      "text/plain": [
       "matrix([[-2.74127541-1.58805939j],\n",
       "        [-3.44412779-0.05837763j],\n",
       "        [-2.83144043+1.4936024j ],\n",
       "        [-1.13723905+2.47507708j],\n",
       "        [ 0.99134898+2.51115644j],\n",
       "        [ 2.74127541+1.58805939j],\n",
       "        [ 3.44412779+0.05837763j],\n",
       "        [ 2.83144043-1.4936024j ],\n",
       "        [ 1.13723905-2.47507708j],\n",
       "        [-0.99134898-2.51115644j]])"
      ]
     },
     "execution_count": 13,
     "metadata": {},
     "output_type": "execute_result"
    }
   ],
   "source": [
    "V[:,1]\n"
   ]
  },
  {
   "cell_type": "code",
   "execution_count": 10,
   "metadata": {},
   "outputs": [
    {
     "data": {
      "text/plain": [
       "False"
      ]
     },
     "execution_count": 10,
     "metadata": {},
     "output_type": "execute_result"
    }
   ],
   "source": [
    "0 in V"
   ]
  },
  {
   "cell_type": "code",
   "execution_count": null,
   "metadata": {},
   "outputs": [],
   "source": []
  }
 ],
 "metadata": {
  "kernelspec": {
   "display_name": "Python 3",
   "language": "python",
   "name": "python3"
  },
  "language_info": {
   "codemirror_mode": {
    "name": "ipython",
    "version": 3
   },
   "file_extension": ".py",
   "mimetype": "text/x-python",
   "name": "python",
   "nbconvert_exporter": "python",
   "pygments_lexer": "ipython3",
   "version": "3.8.5"
  },
  "varInspector": {
   "cols": {
    "lenName": 16,
    "lenType": 16,
    "lenVar": 40
   },
   "kernels_config": {
    "python": {
     "delete_cmd_postfix": "",
     "delete_cmd_prefix": "del ",
     "library": "var_list.py",
     "varRefreshCmd": "print(var_dic_list())"
    },
    "r": {
     "delete_cmd_postfix": ") ",
     "delete_cmd_prefix": "rm(",
     "library": "var_list.r",
     "varRefreshCmd": "cat(var_dic_list()) "
    }
   },
   "types_to_exclude": [
    "module",
    "function",
    "builtin_function_or_method",
    "instance",
    "_Feature"
   ],
   "window_display": false
  }
 },
 "nbformat": 4,
 "nbformat_minor": 2
}
